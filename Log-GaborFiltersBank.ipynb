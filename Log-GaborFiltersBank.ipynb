{
 "cells": [
  {
   "cell_type": "markdown",
   "metadata": {},
   "source": [
    "# PDI"
   ]
  },
  {
   "cell_type": "code",
   "execution_count": null,
   "metadata": {},
   "outputs": [],
   "source": [
    "import numpy as np\n",
    "import matplotlib.pyplot as plt\n",
    "import cv2\n",
    "import pandas as pd\n",
    "from os import listdir\n"
   ]
  },
  {
   "cell_type": "code",
   "execution_count": null,
   "metadata": {},
   "outputs": [],
   "source": [
    "def logGabor(lamda, theta, angl, sigma, thetaSigma, M, N):\n",
    "    #cria o meshgrid radial\n",
    "    (x, y) = np.meshgrid(np.arange(-N//2 + 1, N//2 + 1)/N, np.arange(-M//2 + 1, M//2 + 1)/M)\n",
    "    radius = np.sqrt(x**2 + y**2)\n",
    "    radius[N//2, M//2] = 1  # Evita a divisão por zero, mas sem definir um valor fixo\n",
    "\n",
    "    #radial component\n",
    "    fo = 1/lamda # desired filter wavelength\n",
    "    logGabor = np.exp(-0.5 * (np.log(radius/fo)**2)/np.log(sigma)**2) # The bandwidth of the filter is controlled by the parameter sigma\n",
    "    logGabor [N//2, M//2] = 0\n",
    "\n",
    "    #frequency component\n",
    "    theta = np.arctan2(-y, x)\n",
    "    sinTheta = np.sin(theta)\n",
    "    cosTheta = np.cos(theta)\n",
    "\n",
    "    ds = sinTheta * np.cos(angl) - cosTheta * np.sin(angl)\n",
    "    dc = cosTheta * np.cos(angl) + sinTheta * np.sin(angl)\n",
    "    dtheta = abs(np.arctan2(ds, dc))\n",
    "    \n",
    "    spread = np.exp(-0.5 * (dtheta)**2/thetaSigma**2)\n",
    "\n",
    "    #Combinign\n",
    "    gab_filter = logGabor * spread\n",
    "\n",
    "\n",
    "    return gab_filter "
   ]
  },
  {
   "cell_type": "code",
   "execution_count": null,
   "metadata": {},
   "outputs": [],
   "source": [
    "def filter(imgFreq, gb, P, Q, M, N):\n",
    "    #G = H*F\n",
    "    Fimg_filtered = gb*imgFreq\n",
    "\n",
    "    #fft inversa\n",
    "    img_back = np.fft.ifft2(Fimg_filtered)\n",
    "\n",
    "    # Multiplicao por (-1)^(x+y)\n",
    "    mult_img_back = np.zeros([P, Q])\n",
    "    for x in range(P):\n",
    "        for y in range(Q):\n",
    "            mult_factor = (-1)**(x+y)\n",
    "            mult_img_back[x, y] = img_back[x, y].real * mult_factor\n",
    "\n",
    "    final_img = mult_img_back[0:M, 0:N]\n",
    "\n",
    "    return final_img"
   ]
  },
  {
   "cell_type": "code",
   "execution_count": null,
   "metadata": {},
   "outputs": [],
   "source": [
    "img_path = 'C:/Users/mathe/Desktop/Pastas/UFSCar/Perfil 5/PDI/Swedish Leaf Dataset/leafs 1 to 3'\n",
    "\n",
    "df = pd.DataFrame()"
   ]
  },
  {
   "cell_type": "code",
   "execution_count": null,
   "metadata": {},
   "outputs": [],
   "source": [
    "i = 1\n",
    "classes = []\n",
    "\n",
    "#para cada imagem:\n",
    "for img_filename in listdir(img_path):\n",
    "    print(f'{i}: Processing imag: {img_path}/{img_filename}')\n",
    "    # Lê imagem e automaticamente converte para 1 canal de cinza\n",
    "    img = cv2.imread(img_path + '/' + img_filename, cv2.IMREAD_GRAYSCALE)\n",
    "\n",
    "    img = cv2.resize(img, (256, 256), interpolation=cv2.INTER_AREA)\n",
    "\n",
    "    img2 = img.reshape(-1)\n",
    "    df_image = pd.DataFrame()\n",
    "    df_image['Original Image'] = img2\n",
    "\n",
    "    #Padding \n",
    "    M, N = img.shape\n",
    "    img_padded = np.pad(img, ((0, M), (0, N)), \n",
    "                        mode='constant', constant_values=0)\n",
    "    P, Q = img_padded.shape\n",
    "\n",
    "\n",
    "    # Multiplicao por (-1)^(x+y)\n",
    "    mult_img = np.zeros([P, Q])\n",
    "\n",
    "    #for x in range(P):\n",
    "    #    for y in range(Q):\n",
    "    #        mult_factor = (-1)**(x+y)\n",
    "    #        mult_img[x, y] = img_padded[x, y] * mult_factor\n",
    "    mult_img = img_padded * np.fromfunction(lambda x, y: (-1)**(x+y), img_padded.shape)\n",
    "\n",
    "    # Converter imagem do domínio do espaço para o domínio da frequência\n",
    "    f = np.fft.fft2(mult_img)\n",
    "\n",
    "    # =====================================\n",
    "    count = 1\n",
    "    #Cria filtros de gabor\n",
    "    classes.append(img_filename.split('nr')[0])\n",
    "    for theta in range(3):\n",
    "        theta = theta * 60 * (np.pi/180)\n",
    "        for sigma in (1.8, 1.8):\n",
    "            for lamba  in (25, 50):\n",
    "                for gamma in (0.5, 1):\n",
    "                    label = 'Gabor-' + str(count)\n",
    "\n",
    "                    psi = 0\n",
    "                    gb = logGabor(lamba, theta, psi, sigma, gamma, P, Q)\n",
    "\n",
    "                    fimg = filter(f, gb, P, Q, M, N)\n",
    "                    filtered_img = fimg.reshape(-1)\n",
    "                    df_image[label] = filtered_img\n",
    "                    count += 1\n",
    "\n",
    "    count = 0\n",
    "    flattened = df_image.values.reshape(1, -1)\n",
    "    df = pd.concat([df, pd.DataFrame(flattened)], ignore_index=True)\n",
    "    i += 1\n",
    "df.insert(0, 'classe', classes)\n",
    "df"
   ]
  }
 ],
 "metadata": {
  "language_info": {
   "name": "python"
  }
 },
 "nbformat": 4,
 "nbformat_minor": 2
}
